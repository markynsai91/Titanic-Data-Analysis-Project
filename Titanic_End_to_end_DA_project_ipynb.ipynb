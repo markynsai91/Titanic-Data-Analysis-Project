{
  "nbformat": 4,
  "nbformat_minor": 0,
  "metadata": {
    "colab": {
      "provenance": [],
      "toc_visible": true,
      "include_colab_link": true
    },
    "kernelspec": {
      "name": "python3",
      "display_name": "Python 3"
    },
    "language_info": {
      "name": "python"
    }
  },
  "cells": [
    {
      "cell_type": "markdown",
      "metadata": {
        "id": "view-in-github",
        "colab_type": "text"
      },
      "source": [
        "<a href=\"https://colab.research.google.com/github/markynsai91/Titanic-Data-Analysis-Project/blob/main/Titanic_End_to_end_DA_project_ipynb.ipynb\" target=\"_parent\"><img src=\"https://colab.research.google.com/assets/colab-badge.svg\" alt=\"Open In Colab\"/></a>"
      ]
    },
    {
      "cell_type": "markdown",
      "source": [
        "#Titanic - Data Analytics\n",
        "##Project Summary"
      ],
      "metadata": {
        "id": "xy4inZ8V4y7V"
      }
    },
    {
      "cell_type": "markdown",
      "source": [
        "This project explores the factors that influenced passenger survival during the Titanic disaster using data analysis and visualization in Python. The analysis focused on understanding how passenger class and age affected survival outcomes to draw insights that could inform fairer ship design and emergency planning.\n",
        "I cleaned and prepared the dataset using Pandas, handled missing values with mean imputation, and created an age_category column to group passengers into Children (0–14), Youth & Adults (15–64), and Seniors (65+). Visualizations were built to compare survival counts and rates across passenger classes and age groups.\n",
        "The findings showed a clear class-based disparity in survival rates, with first-class passengers having significantly higher survival chances. Children had a higher likelihood of survival compared to adults and seniors, revealing patterns of vulnerability that could inform better safety design in future maritime planning.\n",
        "Tools Used: Python (Pandas, NumPy, Matplotlib), Jupyter Notebook, Excel\n"
      ],
      "metadata": {
        "id": "0DE8ZmwMpaKY"
      }
    },
    {
      "cell_type": "markdown",
      "source": [
        "##Project Goals\n",
        "\n",
        "\n",
        "\n",
        "**Goal**:See if survival rate had anything to do with the passenger class, Also assess the age of the passengers within each class to identify vulnerable age categories.\n",
        "\n",
        "**Visualisation**\n",
        "(bar, pie, column etc.):\n",
        "\n",
        "<figure>\n",
        "  <left>\n",
        "    <img src='https://drive.google.com/uc?export=view&id=15fIbp6qRXgfL6vHfpkPkIG4zCv15qxiD' width='400'/>\n",
        "    <figcaption>Popular types of visuals</figcaption>\n",
        "  </left>\n",
        "</figure>\n",
        "\n",
        "- Bar plot 1\n",
        "  - Numeric Column and aggregation :Survived - sum\n",
        "  - Categorical column - Class\n",
        "  - Actve filters: Age\n",
        "\n",
        "- Bar Plot 2:\n",
        "  - Numeric Column and aggregation :Survived - Percentage\n",
        "  - Categorical column - Class\n",
        "  - Actve filters: Age\n",
        "\n",
        "- Bar Plot 3:\n",
        "   - Numeric Column and aggregation :Survived - Percentage\n",
        "  - Categorical column - Class\n",
        "   - Categorical column - Age (Children, Adults, Seniors)\n",
        "  - Actve filters: None\n"
      ],
      "metadata": {
        "id": "NPfw13UovDjJ"
      }
    },
    {
      "cell_type": "markdown",
      "source": [
        "### Data Preperation\n",
        "In this step, the Titanic dataset is downloaded, cleaned, and prepared for analysis. The process begins by retrieving the dataset from Google Drive using the gdown library, then loading it into a Pandas DataFrame for inspection and preprocessing.\n",
        "\n",
        "Next, the data is stored in a SQLite database, enabling the use of SQL queries directly within the Jupyter Notebook. By loading the SQL extension with %load_ext sql and connecting to the database using %sql, the environment allows for both Python-based and SQL-based data exploration.\n",
        "\n",
        "This setup provides a structured and flexible workspace where Python and SQL can be used together to analyze, query, and visualize the Titanic dataset effectively in later stages of the project.\n",
        "\n"
      ],
      "metadata": {
        "id": "OkXwjv7dfZWI"
      }
    },
    {
      "cell_type": "code",
      "source": [
        "import pandas as pd\n",
        "import numpy as np\n",
        "import gdown\n",
        "\n",
        "# File ID from the Google Drive link\n",
        "file_id = '15cFsnPnHc7KlzV0C9QQ5wG5v8PWqJ65C'\n",
        "\n",
        "download_url = f'https://drive.google.com/uc?id={file_id}'\n",
        "\n",
        "# Download the file\n",
        "output_file = 'downloaded_file.csv'\n",
        "gdown.download(download_url, output_file, quiet=False)\n",
        "\n",
        "# Load the CSV file into a pandas DataFrame\n",
        "df = pd.read_csv(output_file)\n",
        "\n",
        "# Assuming ipython-sql is installed\n",
        "%load_ext sql\n",
        "\n",
        "# Use a file-based SQLite database\n",
        "database_filename = 'my_database.db'\n",
        "df.to_sql('titanic_data', f'sqlite:///{database_filename}', if_exists='replace', index=False)\n",
        "\n",
        "# Now connect ipython-sql to the same file-based database\n",
        "%sql sqlite:///my_database.db\n",
        "\n",
        "# ATTENTION:\n",
        "#there was a change behind the SQL functionality used here in Jupyter Notebook.\n",
        "#We need to add this code to fix it\n",
        "%config SqlMagic.style = '_DEPRECATED_DEFAULT'"
      ],
      "metadata": {
        "id": "eFs78mYWliME",
        "colab": {
          "base_uri": "https://localhost:8080/"
        },
        "outputId": "25f51d3b-a2e0-410e-9211-37ec81f7f28d"
      },
      "execution_count": null,
      "outputs": [
        {
          "output_type": "stream",
          "name": "stderr",
          "text": [
            "Downloading...\n",
            "From: https://drive.google.com/uc?id=15cFsnPnHc7KlzV0C9QQ5wG5v8PWqJ65C\n",
            "To: /content/downloaded_file.csv\n",
            "100%|██████████| 61.2k/61.2k [00:00<00:00, 29.0MB/s]"
          ]
        },
        {
          "output_type": "stream",
          "name": "stdout",
          "text": [
            "The sql extension is already loaded. To reload it, use:\n",
            "  %reload_ext sql\n"
          ]
        },
        {
          "output_type": "stream",
          "name": "stderr",
          "text": [
            "\n"
          ]
        }
      ]
    },
    {
      "cell_type": "code",
      "source": [
        "#@title Step 2. SQL — Query the data\n",
        "# Query the data to see if it works\n",
        "project_data= %sql SELECT Survived, Pclass, Age FROM titanic_data"
      ],
      "metadata": {
        "id": "3-CzEfzM5LcX",
        "collapsed": true,
        "colab": {
          "base_uri": "https://localhost:8080/"
        },
        "cellView": "form",
        "outputId": "b4a3260e-d479-4176-db05-fa468eeee9f4"
      },
      "execution_count": null,
      "outputs": [
        {
          "output_type": "stream",
          "name": "stdout",
          "text": [
            " * sqlite:///my_database.db\n",
            "Done.\n"
          ]
        }
      ]
    },
    {
      "cell_type": "markdown",
      "source": [
        "Data description\n",
        "<table>\n",
        "<tbody>\n",
        "<tr><th><b>Variable</b></th><th><b>Definition</b></th><th><b>Key</b></th></tr>\n",
        "<tr>\n",
        "<td>survival</td>\n",
        "<td>Survival</td>\n",
        "<td>0 = No, 1 = Yes</td>\n",
        "</tr>\n",
        "<tr>\n",
        "<td>pclass</td>\n",
        "<td>Ticket class</td>\n",
        "<td>1 = 1st, 2 = 2nd, 3 = 3rd</td>\n",
        "</tr>\n",
        "<tr>\n",
        "<td>sex</td>\n",
        "<td>Sex</td>\n",
        "<td></td>\n",
        "</tr>\n",
        "<tr>\n",
        "<td>Age</td>\n",
        "<td>Age in years</td>\n",
        "<td></td>\n",
        "</tr>\n",
        "<tr>\n",
        "<td>sibsp</td>\n",
        "<td># of siblings / spouses aboard the Titanic</td>\n",
        "<td></td>\n",
        "</tr>\n",
        "<tr>\n",
        "<td>parch</td>\n",
        "<td># of parents / children aboard the Titanic</td>\n",
        "<td></td>\n",
        "</tr>\n",
        "<tr>\n",
        "<td>ticket</td>\n",
        "<td>Ticket number</td>\n",
        "<td></td>\n",
        "</tr>\n",
        "<tr>\n",
        "<td>fare</td>\n",
        "<td>Passenger fare</td>\n",
        "<td></td>\n",
        "</tr>\n",
        "<tr>\n",
        "<td>cabin</td>\n",
        "<td>Cabin number</td>\n",
        "<td></td>\n",
        "</tr>\n",
        "<tr>\n",
        "<td>embarked</td>\n",
        "<td>Port of Embarkation</td>\n",
        "<td>C = Cherbourg, Q = Queenstown, S = Southampton</td>\n",
        "</tr>\n",
        "</tbody>\n",
        "</table>"
      ],
      "metadata": {
        "id": "XLH1nNJZkTYY"
      }
    },
    {
      "cell_type": "code",
      "source": [
        "#@title Step 3. Python\n",
        "\n",
        "# Get the data to Python environment\n",
        "df=pd.DataFrame(project_data)\n",
        "print(df.head())"
      ],
      "metadata": {
        "id": "YYxg_USbk-Sl",
        "cellView": "form",
        "colab": {
          "base_uri": "https://localhost:8080/"
        },
        "outputId": "8184b7f2-8eff-43e8-f3ba-d05538f9d315"
      },
      "execution_count": null,
      "outputs": [
        {
          "output_type": "stream",
          "name": "stdout",
          "text": [
            "   Survived  Pclass   Age\n",
            "0         0       3  22.0\n",
            "1         1       1  38.0\n",
            "2         1       3  26.0\n",
            "3         1       1  35.0\n",
            "4         0       3  35.0\n"
          ]
        }
      ]
    },
    {
      "cell_type": "code",
      "source": [
        "print(\"=== Basic Info ===\")\n",
        "print(df.info())\n",
        "\n",
        "print(\"\\n=== Summary Statistics ===\")\n",
        "print(df.describe())\n",
        "\n",
        "\n",
        "print(\"\\n=== Missing Values ===\")\n",
        "print(df.isnull().sum())"
      ],
      "metadata": {
        "colab": {
          "base_uri": "https://localhost:8080/"
        },
        "id": "TKLMzlseFdEw",
        "outputId": "e799019f-212f-496e-f8e1-8ddcb86bac67"
      },
      "execution_count": null,
      "outputs": [
        {
          "output_type": "stream",
          "name": "stdout",
          "text": [
            "=== Basic Info ===\n",
            "<class 'pandas.core.frame.DataFrame'>\n",
            "RangeIndex: 891 entries, 0 to 890\n",
            "Data columns (total 3 columns):\n",
            " #   Column    Non-Null Count  Dtype  \n",
            "---  ------    --------------  -----  \n",
            " 0   Survived  891 non-null    int64  \n",
            " 1   Pclass    891 non-null    int64  \n",
            " 2   Age       714 non-null    float64\n",
            "dtypes: float64(1), int64(2)\n",
            "memory usage: 21.0 KB\n",
            "None\n",
            "\n",
            "=== Summary Statistics ===\n",
            "         Survived      Pclass         Age\n",
            "count  891.000000  891.000000  714.000000\n",
            "mean     0.383838    2.308642   29.699118\n",
            "std      0.486592    0.836071   14.526497\n",
            "min      0.000000    1.000000    0.420000\n",
            "25%      0.000000    2.000000   20.125000\n",
            "50%      0.000000    3.000000   28.000000\n",
            "75%      1.000000    3.000000   38.000000\n",
            "max      1.000000    3.000000   80.000000\n",
            "\n",
            "=== Missing Values ===\n",
            "Survived      0\n",
            "Pclass        0\n",
            "Age         177\n",
            "dtype: int64\n"
          ]
        }
      ]
    },
    {
      "cell_type": "code",
      "source": [
        "#Calculate the mean of the Age Column\n",
        "age_mean=df['Age'].mean()\n",
        "\n",
        "#Replace misisng values in the age columnn with the mean\n",
        "\n",
        "df['Age'] = df['Age'].fillna(age_mean)\n",
        "\n",
        "#Verify that there are no missing values in the Age column\n",
        "print(df['Age'].isnull().sum())"
      ],
      "metadata": {
        "colab": {
          "base_uri": "https://localhost:8080/"
        },
        "id": "-aTLwb3gIdC9",
        "outputId": "c717577b-3c97-4664-f578-b8d9ba0279c8"
      },
      "execution_count": null,
      "outputs": [
        {
          "output_type": "stream",
          "name": "stdout",
          "text": [
            "0\n"
          ]
        }
      ]
    },
    {
      "cell_type": "code",
      "source": [
        "#Round the values in the Age Column\n",
        "df['Age']= df['Age'].round()\n",
        "\n",
        "#Display Summary Statistics\n",
        "print(df.describe())"
      ],
      "metadata": {
        "colab": {
          "base_uri": "https://localhost:8080/"
        },
        "id": "SlFylm_0KmAg",
        "outputId": "8214f95d-19a0-4e4e-8560-2880c90eaa6f"
      },
      "execution_count": null,
      "outputs": [
        {
          "output_type": "stream",
          "name": "stdout",
          "text": [
            "         Survived      Pclass         Age\n",
            "count  891.000000  891.000000  891.000000\n",
            "mean     0.383838    2.308642   29.754209\n",
            "std      0.486592    0.836071   13.000828\n",
            "min      0.000000    1.000000    0.000000\n",
            "25%      0.000000    2.000000   22.000000\n",
            "50%      0.000000    3.000000   30.000000\n",
            "75%      1.000000    3.000000   35.000000\n",
            "max      1.000000    3.000000   80.000000\n"
          ]
        }
      ]
    },
    {
      "cell_type": "code",
      "source": [
        "# Define the conditions\n",
        "conditions = [\n",
        "    (df['Age'] <= 14),\n",
        "    (df['Age'] >= 15) & (df['Age'] <= 64),\n",
        "    (df['Age'] >= 65)\n",
        "]\n",
        "\n",
        "# Define the corresponding category labels\n",
        "categories = ['Children', 'Youth & Adults', 'Seniors']\n",
        "\n",
        "df['age_category'] = np.select(conditions, categories, default='Unknown')\n",
        "\n",
        "# Display first few rows to check\n",
        "print(df.head(10))\n",
        "print(df['age_category'].value_counts())"
      ],
      "metadata": {
        "colab": {
          "base_uri": "https://localhost:8080/"
        },
        "id": "tyhi1jGWMAaz",
        "outputId": "22dc2786-5e0f-4cde-e5ec-dcfdf52eadaf"
      },
      "execution_count": null,
      "outputs": [
        {
          "output_type": "stream",
          "name": "stdout",
          "text": [
            "   Survived  Pclass   Age    age_category\n",
            "0         0       3  22.0  Youth & Adults\n",
            "1         1       1  38.0  Youth & Adults\n",
            "2         1       3  26.0  Youth & Adults\n",
            "3         1       1  35.0  Youth & Adults\n",
            "4         0       3  35.0  Youth & Adults\n",
            "5         0       3  30.0  Youth & Adults\n",
            "6         0       1  54.0  Youth & Adults\n",
            "7         0       3   2.0        Children\n",
            "8         1       3  27.0  Youth & Adults\n",
            "9         1       2  14.0        Children\n",
            "age_category\n",
            "Youth & Adults    802\n",
            "Children           78\n",
            "Seniors            11\n",
            "Name: count, dtype: int64\n"
          ]
        }
      ]
    },
    {
      "cell_type": "code",
      "source": [
        "#Export the DataFrame to an Excel file\n",
        "df.to_excel('output.xlsx',index=False)\n",
        "\n",
        "print('\\n Data has been exported to output.xlsx')"
      ],
      "metadata": {
        "colab": {
          "base_uri": "https://localhost:8080/"
        },
        "id": "wKkLgNrwMxVO",
        "outputId": "b50bd4be-3219-4169-ee04-6435702dc73a"
      },
      "execution_count": null,
      "outputs": [
        {
          "output_type": "stream",
          "name": "stdout",
          "text": [
            "\n",
            " Data has been exported to output.xlsx\n"
          ]
        }
      ]
    },
    {
      "cell_type": "code",
      "source": [
        "#@title Tableau Dashboard\n",
        "from IPython.display import HTML\n",
        "\n",
        "HTML(\"\"\"\n",
        "<div class='tableauPlaceholder' id='viz1760373727104' style='position: relative'><noscript><a href='#'><img alt=' ' src='https:&#47;&#47;public.tableau.com&#47;static&#47;images&#47;QZ&#47;QZJ45DKH9&#47;1_rss.png' style='border: none' /></a></noscript><object class='tableauViz'  style='display:none;'><param name='host_url' value='https%3A%2F%2Fpublic.tableau.com%2F' /> <param name='embed_code_version' value='3' /> <param name='path' value='shared&#47;QZJ45DKH9' /> <param name='toolbar' value='yes' /><param name='static_image' value='https:&#47;&#47;public.tableau.com&#47;static&#47;images&#47;QZ&#47;QZJ45DKH9&#47;1.png' /> <param name='animate_transition' value='yes' /><param name='display_static_image' value='yes' /><param name='display_spinner' value='yes' /><param name='display_overlay' value='yes' /><param name='display_count' value='yes' /><param name='language' value='en-US' /></object></div>                <script type='text/javascript'>                    var divElement = document.getElementById('viz1760373727104');                    var vizElement = divElement.getElementsByTagName('object')[0];                    if ( divElement.offsetWidth > 800 ) { vizElement.style.width='100%';vizElement.style.height=(divElement.offsetWidth*0.75)+'px';} else if ( divElement.offsetWidth > 500 ) { vizElement.style.width='100%';vizElement.style.height=(divElement.offsetWidth*0.75)+'px';} else { vizElement.style.width='100%';vizElement.style.minHeight='1400px';vizElement.style.maxHeight=(divElement.offsetWidth*1.77)+'px';}                     var scriptElement = document.createElement('script');                    scriptElement.src = 'https://public.tableau.com/javascripts/api/viz_v1.js';                    vizElement.parentNode.insertBefore(scriptElement, vizElement);                </script>\n",
        "\"\"\")\n"
      ],
      "metadata": {
        "id": "ENH3nc7y6efx",
        "colab": {
          "base_uri": "https://localhost:8080/",
          "height": 1000
        },
        "outputId": "c5824d5a-4b51-4c56-f270-63329d042f36"
      },
      "execution_count": null,
      "outputs": [
        {
          "output_type": "execute_result",
          "data": {
            "text/plain": [
              "<IPython.core.display.HTML object>"
            ],
            "text/html": [
              "\n",
              "<div class='tableauPlaceholder' id='viz1760373727104' style='position: relative'><noscript><a href='#'><img alt=' ' src='https:&#47;&#47;public.tableau.com&#47;static&#47;images&#47;QZ&#47;QZJ45DKH9&#47;1_rss.png' style='border: none' /></a></noscript><object class='tableauViz'  style='display:none;'><param name='host_url' value='https%3A%2F%2Fpublic.tableau.com%2F' /> <param name='embed_code_version' value='3' /> <param name='path' value='shared&#47;QZJ45DKH9' /> <param name='toolbar' value='yes' /><param name='static_image' value='https:&#47;&#47;public.tableau.com&#47;static&#47;images&#47;QZ&#47;QZJ45DKH9&#47;1.png' /> <param name='animate_transition' value='yes' /><param name='display_static_image' value='yes' /><param name='display_spinner' value='yes' /><param name='display_overlay' value='yes' /><param name='display_count' value='yes' /><param name='language' value='en-US' /></object></div>                <script type='text/javascript'>                    var divElement = document.getElementById('viz1760373727104');                    var vizElement = divElement.getElementsByTagName('object')[0];                    if ( divElement.offsetWidth > 800 ) { vizElement.style.width='100%';vizElement.style.height=(divElement.offsetWidth*0.75)+'px';} else if ( divElement.offsetWidth > 500 ) { vizElement.style.width='100%';vizElement.style.height=(divElement.offsetWidth*0.75)+'px';} else { vizElement.style.width='100%';vizElement.style.minHeight='1400px';vizElement.style.maxHeight=(divElement.offsetWidth*1.77)+'px';}                     var scriptElement = document.createElement('script');                    scriptElement.src = 'https://public.tableau.com/javascripts/api/viz_v1.js';                    vizElement.parentNode.insertBefore(scriptElement, vizElement);                </script>\n"
            ]
          },
          "metadata": {},
          "execution_count": 35
        }
      ]
    },
    {
      "cell_type": "markdown",
      "source": [
        "[Link Tableau](https://public.tableau.com/shared/QZJ45DKH9?:display_count=n&:origin=viz_share_link)\n",
        "\n",
        "**Goal**:\n",
        "See if survival rate had anything to do with the passenger class, Also assess the age of the passengers within each class to identify vulnerable age categories.\n",
        "\n",
        "**Assessment**:\n",
        "The data analytics dashboard reveals significant differences in survival rates among various passenger classes on the Titanic. When examining the survival percentages, a substantial disparity is evident. First-class passengers had almost three times the survival rate compared to third-class passengers. This underscores the importance of analyzing survival percentages rather than merely the total number of survivors.\n",
        "\n",
        "For first-class passengers, the survival rate is approximately 60%. However, when considering the percentage of survivors within each class, the rate is notably higher, emphasizing the critical need to differentiate between overall survival rates and class-specific survival percentages.\n",
        "\n",
        "Age also played a significant role in survival outcomes. Second-class children had a 100% survival rate, compared to 80% for first-class and 40% for third-class children. No seniors survived in the second and third classes, while only 17% (one individual) survived in the first class. It is essential to conduct a deeper statistical analysis for the first class result to determine if this survival rate among seniors is statistically significant or due to chance."
      ],
      "metadata": {
        "id": "ZbyPQWDN97Tw"
      }
    },
    {
      "cell_type": "code",
      "source": [],
      "metadata": {
        "id": "MPLAmO6ugQ_D"
      },
      "execution_count": null,
      "outputs": []
    }
  ]
}